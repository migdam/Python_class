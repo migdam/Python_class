{
 "nbformat": 4,
 "nbformat_minor": 2,
 "metadata": {
  "language_info": {
   "name": "python",
   "codemirror_mode": {
    "name": "ipython",
    "version": 3
   }
  },
  "orig_nbformat": 2,
  "file_extension": ".py",
  "mimetype": "text/x-python",
  "name": "python",
  "npconvert_exporter": "python",
  "pygments_lexer": "ipython3",
  "version": 3
 },
 "cells": [
  {
   "cell_type": "code",
   "execution_count": 10,
   "metadata": {},
   "outputs": [],
   "source": [
    "class User:\n",
    "    #pass\n",
    "    def __init__(self, full_name, birthday):\n",
    "        self.name=full_name\n",
    "        self.birthday=birthday #yyyymmdd\n",
    "        #extract first and last names\n",
    "        name_pieces=full_name.split(' ')\n",
    "        self.first_name=name_pieces[0]\n",
    "        self.last_name=name_pieces[-1]\n",
    "\n"
   ]
  },
  {
   "cell_type": "code",
   "execution_count": 11,
   "metadata": {},
   "outputs": [
    {
     "name": "stdout",
     "output_type": "stream",
     "text": "Dave Bowman\nDave\nBowman\n19710315\n"
    }
   ],
   "source": [
    "#user1=User()\n",
    "#user1.first_name = 'Dave'\n",
    "#user1.last_name = 'Bowman'\n",
    "\n",
    "#print(user1.first_name)\n",
    "#print(user1.last_name)\n",
    "\n",
    "user=User('Dave Bowman','19710315')\n",
    "print(user.name)\n",
    "print(user.first_name)\n",
    "print(user.last_name)\n",
    "print(user.birthday)\n",
    "\n"
   ]
  },
  {
   "cell_type": "code",
   "execution_count": null,
   "metadata": {},
   "outputs": [],
   "source": []
  },
  {
   "cell_type": "code",
   "execution_count": null,
   "metadata": {},
   "outputs": [],
   "source": []
  }
 ]
}