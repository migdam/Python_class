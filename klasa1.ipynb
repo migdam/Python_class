{
 "nbformat": 4,
 "nbformat_minor": 2,
 "metadata": {
  "language_info": {
   "name": "python",
   "codemirror_mode": {
    "name": "ipython",
    "version": 3
   },
   "version": "3.7.5"
  },
  "orig_nbformat": 2,
  "file_extension": ".py",
  "mimetype": "text/x-python",
  "name": "python",
  "npconvert_exporter": "python",
  "pygments_lexer": "ipython3",
  "version": 3
 },
 "cells": [
  {
   "cell_type": "code",
   "execution_count": 7,
   "metadata": {},
   "outputs": [],
   "source": [
    "class User:\n",
    " #'''a member of friendface. for now we're storing their name and birthday '''\n",
    "    \n",
    "    def __init__(self, full_name, birthday):\n",
    "        self.name=full_name\n",
    "        self.birthday=birthday #yyyymmdd\n",
    "        #extract first and last names\n",
    "        name_pieces=full_name.split(' ')\n",
    "        self.first_name=name_pieces[0]\n",
    "        self.last_name=name_pieces[-1]\n",
    "    \n",
    "    def age(self):\n",
    "        today=datetime.date(2001,5,12)\n",
    "        yyyy=int(self.birthday[0:4])\n",
    "        mm=int(self.birthday[4:6])\n",
    "        dd=int(self.birthday[6:8])\n",
    "        dob=datetime.date(yyyy,mm,dd)\n",
    "        age_in_days=(today-dob).days \n",
    "        age_in_years = age_in_days/356\n",
    "        return int(age_in_years)\n",
    "\n"
   ]
  },
  {
   "cell_type": "code",
   "execution_count": 8,
   "metadata": {},
   "outputs": [
    {
     "name": "stdout",
     "output_type": "stream",
     "text": "Dave Bowman\nDave\nBowman\n19710315\n"
    }
   ],
   "source": [
    "import datetime\n",
    "\n",
    "user=User('Dave Bowman','19710315')\n",
    "print(user.name)\n",
    "print(user.first_name)\n",
    "print(user.last_name)\n",
    "print(user.birthday)\n",
    "\n"
   ]
  },
  {
   "cell_type": "code",
   "execution_count": 9,
   "metadata": {},
   "outputs": [
    {
     "name": "stdout",
     "output_type": "stream",
     "text": "30\n"
    }
   ],
   "source": [
    "user=User('Dave Bowman','19710315')\n",
    "print(user.age())\n"
   ]
  },
  {
   "cell_type": "code",
   "execution_count": null,
   "metadata": {},
   "outputs": [],
   "source": []
  },
  {
   "cell_type": "code",
   "execution_count": null,
   "metadata": {},
   "outputs": [],
   "source": []
  }
 ]
}