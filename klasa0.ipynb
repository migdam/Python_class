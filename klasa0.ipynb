{
  "nbformat": 4,
  "nbformat_minor": 0,
  "metadata": {
    "orig_nbformat": 2,
    "file_extension": ".py",
    "mimetype": "text/x-python",
    "name": "python",
    "npconvert_exporter": "python",
    "pygments_lexer": "ipython3",
    "version": 3,
    "colab": {
      "name": "klasa0.ipynb",
      "provenance": [],
      "include_colab_link": true
    },
    "kernelspec": {
      "name": "python3",
      "display_name": "Python 3"
    }
  },
  "cells": [
    {
      "cell_type": "markdown",
      "metadata": {
        "id": "view-in-github",
        "colab_type": "text"
      },
      "source": [
        "<a href=\"https://colab.research.google.com/github/migdam/Python_class/blob/master/klasa0.ipynb\" target=\"_parent\"><img src=\"https://colab.research.google.com/assets/colab-badge.svg\" alt=\"Open In Colab\"/></a>"
      ]
    },
    {
      "cell_type": "code",
      "metadata": {
        "id": "EsJoconXq5hh",
        "colab_type": "code",
        "colab": {}
      },
      "source": [
        "class User:\n",
        "    pass"
      ],
      "execution_count": 0,
      "outputs": []
    },
    {
      "cell_type": "code",
      "metadata": {
        "id": "bua8PTKTq5hq",
        "colab_type": "code",
        "colab": {
          "base_uri": "https://localhost:8080/",
          "height": 87
        },
        "outputId": "40d25eda-94b0-4b35-af65-85a5849609e1"
      },
      "source": [
        "user1=User()\n",
        "user2=User()\n",
        "user1.first_name = 'Dave'\n",
        "user1.last_name = 'Bowman'\n",
        "user2.first_name='Michal'\n",
        "user2.last_name='Migda'\n",
        "user1.age = 37\n",
        "user2.favourite_book='2001. A space odyssey'\n",
        "\n",
        "print(user1.first_name)\n",
        "print(user1.last_name)\n",
        "print(user2.first_name,user2.last_name)\n",
        "print(user1.age, user2.favourite_book)\n",
        "\n"
      ],
      "execution_count": 2,
      "outputs": [
        {
          "output_type": "stream",
          "text": [
            "Dave\n",
            "Bowman\n",
            "Michal Migda\n",
            "37 2001. A space odyssey\n"
          ],
          "name": "stdout"
        }
      ]
    },
    {
      "cell_type": "code",
      "metadata": {
        "id": "ARspRTNxq5hz",
        "colab_type": "code",
        "colab": {}
      },
      "source": [
        "a=1"
      ],
      "execution_count": 0,
      "outputs": []
    },
    {
      "cell_type": "code",
      "metadata": {
        "id": "H84VPEk8q5h3",
        "colab_type": "code",
        "colab": {}
      },
      "source": [
        "b=2"
      ],
      "execution_count": 0,
      "outputs": []
    }
  ]
}